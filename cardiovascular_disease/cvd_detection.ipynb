{
 "cells": [
  {
   "cell_type": "code",
   "execution_count": 1,
   "metadata": {},
   "outputs": [],
   "source": [
    "# Imports\n",
    "import numpy as np\n",
    "import pandas as pd\n",
    "import sklearn as sk"
   ]
  },
  {
   "cell_type": "markdown",
   "metadata": {},
   "source": [
    "Cardiovascular Dieases dataset https://www.kaggle.com/sulianova/cardiovascular-disease-dataset\n",
    "```\n",
    "id          - ID number  \n",
    "age         - days\n",
    "gender      - 1 - women, 2 - men  \n",
    "height      - (unit: cm)  \n",
    "weight      - (unit: kg)  \n",
    "ap_hi       - Systolic blood pressure  \n",
    "ap_lo       - Diastolic blood pressure  \n",
    "cholesterol - 1: normal, 2: above normal, 3: well above normal  \n",
    "gluc        - 1: normal, 2: above normal, 3: well above normal  \n",
    "smoke       - whether patient smokes or not  \n",
    "alco        - whether patient drinks or not\n",
    "active      - whether patient exercises or not \n",
    "cardio      - Target variable (binary, presence of cardiovascular disease)\n",
    "```"
   ]
  },
  {
   "cell_type": "code",
   "execution_count": null,
   "metadata": {},
   "outputs": [],
   "source": [
    "# Load data\n"
   ]
  }
 ],
 "metadata": {
  "kernelspec": {
   "display_name": "Python 3",
   "language": "python",
   "name": "python3"
  },
  "language_info": {
   "codemirror_mode": {
    "name": "ipython",
    "version": 3
   },
   "file_extension": ".py",
   "mimetype": "text/x-python",
   "name": "python",
   "nbconvert_exporter": "python",
   "pygments_lexer": "ipython3",
   "version": "3.7.4"
  }
 },
 "nbformat": 4,
 "nbformat_minor": 2
}
